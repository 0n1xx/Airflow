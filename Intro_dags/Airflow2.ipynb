{
 "cells": [
  {
   "cell_type": "markdown",
   "source": [
    "### Разбор устройства Dag в Airflow:"
   ],
   "metadata": {
    "collapsed": false,
    "pycharm": {
     "name": "#%% md\n"
    }
   }
  },
  {
   "cell_type": "code",
   "execution_count": null,
   "outputs": [],
   "source": [
    "#Для датасета\n",
    "import pandas as pd\n",
    "import re\n",
    "import numpy as np\n",
    "from datetime import timedelta\n",
    "from datetime import datetime\n",
    "\n",
    "#Для написания DAG\n",
    "from airflow import DAG\n",
    "from airflow.operators.python import PythonOperator\n",
    "\n",
    "#Сам датасет\n",
    "TOP_1M_DOMAINS = 'http://s3.amazonaws.com/alexa-static/top-1m.csv.zip'\n",
    "TOP_1M_DOMAINS_FILE = 'top-1m.csv'"
   ],
   "metadata": {
    "collapsed": false,
    "pycharm": {
     "name": "#%%\n"
    }
   }
  },
  {
   "cell_type": "code",
   "execution_count": 21,
   "outputs": [],
   "source": [
    "def get_data():\n",
    "    # Здесь пока оставили запись в файл, как передавать переменyую между тасками будет в третьем уроке\n",
    "    top_doms = pd.read_csv(TOP_1M_DOMAINS)\n",
    "    top_data = top_doms.to_csv(index=False)\n",
    "\n",
    "    with open(TOP_1M_DOMAINS_FILE, 'w') as f:\n",
    "        f.write(top_data)"
   ],
   "metadata": {
    "collapsed": false,
    "pycharm": {
     "name": "#%%\n"
    }
   }
  },
  {
   "cell_type": "code",
   "execution_count": 22,
   "metadata": {
    "pycharm": {
     "name": "#%%\n"
    }
   },
   "outputs": [],
   "source": [
    "default_args = {\n",
    "    'owner': 'v-saharov-20',\n",
    "    'depends_on_past': False,\n",
    "    'retries': 2,\n",
    "    'retry_delay': timedelta(minutes=3),\n",
    "    'start_date': datetime(2022, 6, 2),\n",
    "}\n",
    "schedule_interval = '0 12 * * *'\n",
    "\n",
    "dag = DAG('v-saharov-20', default_args=default_args, schedule_interval=schedule_interval)"
   ]
  },
  {
   "cell_type": "markdown",
   "metadata": {
    "pycharm": {
     "name": "#%% md\n"
    }
   },
   "source": [
    "### Задачи: написать функции и обернуть это в DAG, которые будут отвечать на следующие вопросы:\n",
    "1. Найти топ-10 доменных зон по численности доменов;\n",
    "2. Найти домен с самым длинным именем (если их несколько, то взять только первый в алфавитном порядке);\n",
    "3. На каком месте находится домен airflow.com?"
   ]
  },
  {
   "cell_type": "code",
   "execution_count": null,
   "outputs": [],
   "source": [
    "df = pd.read_csv(\"top-1m.csv\",names=['rank', 'domain'])\n",
    "df.head()"
   ],
   "metadata": {
    "collapsed": false,
    "pycharm": {
     "name": "#%%\n"
    }
   }
  },
  {
   "cell_type": "code",
   "execution_count": 71,
   "metadata": {
    "pycharm": {
     "name": "#%%\n"
    }
   },
   "outputs": [
    {
     "data": {
      "text/plain": [
       "True"
      ]
     },
     "execution_count": 71,
     "metadata": {},
     "output_type": "execute_result"
    }
   ],
   "source": [
    "df.shape[0] == df[\"rank\"].unique().shape[0] "
   ]
  },
  {
   "cell_type": "markdown",
   "metadata": {
    "pycharm": {
     "name": "#%% md\n"
    }
   },
   "source": [
    "##### 1. Найти топ-10 доменных зон по численности доменов:"
   ]
  },
  {
   "cell_type": "code",
   "execution_count": 98,
   "metadata": {
    "pycharm": {
     "name": "#%%\n"
    }
   },
   "outputs": [],
   "source": [
    "df[\"3_letters\"] = df[\"domain\"].apply(lambda x : re.findall(r'\\..*',x))"
   ]
  },
  {
   "cell_type": "code",
   "execution_count": 99,
   "metadata": {
    "pycharm": {
     "name": "#%%\n"
    }
   },
   "outputs": [],
   "source": [
    "df[\"3_letters\"] = df[\"3_letters\"].apply(', '.join)"
   ]
  },
  {
   "cell_type": "code",
   "execution_count": 101,
   "metadata": {
    "pycharm": {
     "name": "#%%\n"
    }
   },
   "outputs": [],
   "source": [
    "df[\"3_letters\"] = df[\"3_letters\"].astype(\"str\")"
   ]
  },
  {
   "cell_type": "code",
   "execution_count": 104,
   "metadata": {
    "pycharm": {
     "name": "#%%\n"
    }
   },
   "outputs": [
    {
     "data": {
      "text/html": [
       "<div>\n",
       "<style scoped>\n",
       "    .dataframe tbody tr th:only-of-type {\n",
       "        vertical-align: middle;\n",
       "    }\n",
       "\n",
       "    .dataframe tbody tr th {\n",
       "        vertical-align: top;\n",
       "    }\n",
       "\n",
       "    .dataframe thead th {\n",
       "        text-align: right;\n",
       "    }\n",
       "</style>\n",
       "<table border=\"1\" class=\"dataframe\">\n",
       "  <thead>\n",
       "    <tr style=\"text-align: right;\">\n",
       "      <th></th>\n",
       "      <th>domain</th>\n",
       "    </tr>\n",
       "    <tr>\n",
       "      <th>3_letters</th>\n",
       "      <th></th>\n",
       "    </tr>\n",
       "  </thead>\n",
       "  <tbody>\n",
       "    <tr>\n",
       "      <th>.com</th>\n",
       "      <td>437710</td>\n",
       "    </tr>\n",
       "    <tr>\n",
       "      <th>.org</th>\n",
       "      <td>35893</td>\n",
       "    </tr>\n",
       "    <tr>\n",
       "      <th>.net</th>\n",
       "      <td>32275</td>\n",
       "    </tr>\n",
       "    <tr>\n",
       "      <th>.ru</th>\n",
       "      <td>22840</td>\n",
       "    </tr>\n",
       "    <tr>\n",
       "      <th>.de</th>\n",
       "      <td>14477</td>\n",
       "    </tr>\n",
       "    <tr>\n",
       "      <th>.nl</th>\n",
       "      <td>13229</td>\n",
       "    </tr>\n",
       "    <tr>\n",
       "      <th>.com.au</th>\n",
       "      <td>12268</td>\n",
       "    </tr>\n",
       "    <tr>\n",
       "      <th>.ir</th>\n",
       "      <td>11522</td>\n",
       "    </tr>\n",
       "    <tr>\n",
       "      <th>.co.uk</th>\n",
       "      <td>10964</td>\n",
       "    </tr>\n",
       "    <tr>\n",
       "      <th>.it</th>\n",
       "      <td>9967</td>\n",
       "    </tr>\n",
       "  </tbody>\n",
       "</table>\n",
       "</div>"
      ],
      "text/plain": [
       "           domain\n",
       "3_letters        \n",
       ".com       437710\n",
       ".org        35893\n",
       ".net        32275\n",
       ".ru         22840\n",
       ".de         14477\n",
       ".nl         13229\n",
       ".com.au     12268\n",
       ".ir         11522\n",
       ".co.uk      10964\n",
       ".it          9967"
      ]
     },
     "execution_count": 104,
     "metadata": {},
     "output_type": "execute_result"
    }
   ],
   "source": [
    "df.groupby(\"3_letters\").agg({\"domain\":\"count\"})\\\n",
    "    .sort_values(\"domain\",ascending=False).head(10)"
   ]
  },
  {
   "cell_type": "markdown",
   "metadata": {
    "pycharm": {
     "name": "#%% md\n"
    }
   },
   "source": [
    "##### 2. Найти домен с самым длинным именем (если их несколько, то взять только первый в алфавитном порядке):"
   ]
  },
  {
   "cell_type": "code",
   "execution_count": 120,
   "metadata": {
    "pycharm": {
     "name": "#%%\n"
    }
   },
   "outputs": [],
   "source": [
    "lengths = df[\"domain\"].str.len()"
   ]
  },
  {
   "cell_type": "code",
   "execution_count": 122,
   "metadata": {
    "pycharm": {
     "name": "#%%\n"
    }
   },
   "outputs": [],
   "source": [
    "argmax = np.where(lengths == lengths.max())[0]"
   ]
  },
  {
   "cell_type": "code",
   "execution_count": 123,
   "metadata": {
    "pycharm": {
     "name": "#%%\n"
    }
   },
   "outputs": [
    {
     "data": {
      "text/html": [
       "<div>\n",
       "<style scoped>\n",
       "    .dataframe tbody tr th:only-of-type {\n",
       "        vertical-align: middle;\n",
       "    }\n",
       "\n",
       "    .dataframe tbody tr th {\n",
       "        vertical-align: top;\n",
       "    }\n",
       "\n",
       "    .dataframe thead th {\n",
       "        text-align: right;\n",
       "    }\n",
       "</style>\n",
       "<table border=\"1\" class=\"dataframe\">\n",
       "  <thead>\n",
       "    <tr style=\"text-align: right;\">\n",
       "      <th></th>\n",
       "      <th>rank</th>\n",
       "      <th>domain</th>\n",
       "      <th>3_letters</th>\n",
       "    </tr>\n",
       "  </thead>\n",
       "  <tbody>\n",
       "    <tr>\n",
       "      <th>246368</th>\n",
       "      <td>246369</td>\n",
       "      <td>file-service-default-114c67af0763a8a98e770ff3e...</td>\n",
       "      <td>.fra1.digitaloceanspaces.com</td>\n",
       "    </tr>\n",
       "  </tbody>\n",
       "</table>\n",
       "</div>"
      ],
      "text/plain": [
       "          rank                                             domain  \\\n",
       "246368  246369  file-service-default-114c67af0763a8a98e770ff3e...   \n",
       "\n",
       "                           3_letters  \n",
       "246368  .fra1.digitaloceanspaces.com  "
      ]
     },
     "execution_count": 123,
     "metadata": {},
     "output_type": "execute_result"
    }
   ],
   "source": [
    "argmax = np.where(lengths == lengths.max())[0]\n",
    "df.iloc[argmax]"
   ]
  },
  {
   "cell_type": "markdown",
   "metadata": {
    "pycharm": {
     "name": "#%% md\n"
    }
   },
   "source": [
    "##### 3. На каком месте находится домен airflow.com?:"
   ]
  },
  {
   "cell_type": "code",
   "execution_count": 112,
   "metadata": {
    "pycharm": {
     "name": "#%%\n"
    }
   },
   "outputs": [
    {
     "name": "stdout",
     "output_type": "stream",
     "text": [
      "Такого домена не существует\n"
     ]
    }
   ],
   "source": [
    "if len(df.query(\"domain == 'airflow.com'\")) !=1:\n",
    "    print(\"Такого домена не существует\")\n",
    "else:\n",
    "    df.query(\"domain == 'airflow.com'\")[\"rank\"]"
   ]
  },
  {
   "cell_type": "markdown",
   "metadata": {
    "pycharm": {
     "name": "#%% md\n"
    }
   },
   "source": [
    "##### А теперь создаём функции:"
   ]
  },
  {
   "cell_type": "code",
   "execution_count": 116,
   "metadata": {
    "pycharm": {
     "name": "#%%\n"
    }
   },
   "outputs": [],
   "source": [
    "def top_domains():\n",
    "    df = pd.read_csv(TOP_1M_DOMAINS_FILE,names=['rank', 'domain'])\n",
    "    df[\"3_letters\"] = df[\"domain\"].apply(lambda x : re.findall(r'\\..*',x))\n",
    "    df[\"3_letters\"] = df[\"3_letters\"].apply(', '.join)\n",
    "    df[\"3_letters\"] = df[\"3_letters\"].astype(\"str\")\n",
    "    top_domains10 = df.groupby(\"3_letters\",as_index = False).agg({\"domain\":\"count\"})\\\n",
    "    .sort_values(\"domain\",ascending=False).head(10)\n",
    "    with open('top_domains10.csv', 'w') as f:\n",
    "        f.write(top_domains10.to_csv(index=False, header=False))"
   ]
  },
  {
   "cell_type": "code",
   "execution_count": 124,
   "metadata": {
    "pycharm": {
     "name": "#%%\n"
    }
   },
   "outputs": [],
   "source": [
    "def max_length():\n",
    "    df = pd.read_csv(TOP_1M_DOMAINS_FILE,names=['rank', 'domain'])\n",
    "    lengths = df[\"domain\"].str.len()\n",
    "    argmax = np.where(lengths == lengths.max())[0]\n",
    "    max_length = df.iloc[argmax]\n",
    "    with open('max_length.csv', 'w') as f:\n",
    "        f.write(max_length.to_csv(index=False, header=False))"
   ]
  },
  {
   "cell_type": "code",
   "execution_count": 132,
   "metadata": {
    "pycharm": {
     "name": "#%%\n"
    }
   },
   "outputs": [],
   "source": [
    "def airflow():\n",
    "    df = pd.read_csv(TOP_1M_DOMAINS_FILE,names=['rank', 'domain'])\n",
    "    if len(df.query(\"domain == 'airflow.com'\")) !=1:\n",
    "        answer = \"Такого домена не существует\"\n",
    "    else:\n",
    "        answer = df.query(\"domain == 'airflow.com'\")[\"rank\"]\n",
    "    with open('airflow_answer.txt', 'w') as f:\n",
    "        f.write(answer)     "
   ]
  },
  {
   "cell_type": "code",
   "execution_count": 160,
   "metadata": {
    "pycharm": {
     "name": "#%%\n"
    }
   },
   "outputs": [],
   "source": [
    "def print_data():\n",
    "    print(pd.read_csv(\"top_domains10.csv\",names=[\"doamin\",\"quantity\"]))\n",
    "    print(pd.read_csv(\"max_length.csv\",names=[\"rank\",\"domain\",\"3_letters\"]))\n",
    "    print(pd.read_csv('airflow_answer.txt'))"
   ]
  },
  {
   "cell_type": "markdown",
   "metadata": {
    "pycharm": {
     "name": "#%% md\n"
    }
   },
   "source": [
    "##### Далее задаём таски:"
   ]
  },
  {
   "cell_type": "code",
   "execution_count": 164,
   "metadata": {
    "pycharm": {
     "name": "#%%\n"
    }
   },
   "outputs": [],
   "source": [
    "t1 = PythonOperator(task_id='get_data',\n",
    "                    python_callable=get_data,\n",
    "                    dag=dag)\n",
    "                    \n",
    "t2 = PythonOperator(task_id='top_domains',\n",
    "                    python_callable=top_domains,\n",
    "                    dag=dag)\n",
    "\n",
    "t3 = PythonOperator(task_id='max_length',\n",
    "                    python_callable=max_length,\n",
    "                    dag=dag)\n",
    "\n",
    "t4 = PythonOperator(task_id='airflow',\n",
    "                    python_callable=airflow,\n",
    "                    dag=dag)  \n",
    "\n",
    "t5 = PythonOperator(task_id='print_data',\n",
    "                    python_callable=print_data,\n",
    "                    dag=dag)"
   ]
  },
  {
   "cell_type": "code",
   "execution_count": 165,
   "metadata": {
    "pycharm": {
     "name": "#%%\n"
    }
   },
   "outputs": [
    {
     "data": {
      "text/plain": [
       "<Task(PythonOperator): print_data>"
      ]
     },
     "execution_count": 165,
     "metadata": {},
     "output_type": "execute_result"
    }
   ],
   "source": [
    "t1 >> [t2, t3, t4] >> t5"
   ]
  },
  {
   "cell_type": "markdown",
   "source": [
    "### Выводы:\n",
    "\n",
    "Дальше все это надо вставить в py файл, а в целом работа успешно выполнена.\n",
    "В ходе проекта, я узнал зачем нужен Airflow, а также познакомился как создавать и задавать последовательность в DAGS."
   ],
   "metadata": {
    "collapsed": false,
    "pycharm": {
     "name": "#%% md\n"
    }
   }
  }
 ],
 "metadata": {
  "kernelspec": {
   "display_name": "Python 3",
   "language": "python",
   "name": "python3"
  },
  "language_info": {
   "codemirror_mode": {
    "name": "ipython",
    "version": 3
   },
   "file_extension": ".py",
   "mimetype": "text/x-python",
   "name": "python",
   "nbconvert_exporter": "python",
   "pygments_lexer": "ipython3",
   "version": "3.7.3"
  }
 },
 "nbformat": 4,
 "nbformat_minor": 4
}