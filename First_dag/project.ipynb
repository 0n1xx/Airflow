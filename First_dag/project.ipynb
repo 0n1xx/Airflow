{
 "cells": [
  {
   "cell_type": "markdown",
   "metadata": {
    "pycharm": {
     "name": "#%% md\n"
    }
   },
   "source": [
    "### Создаём свой собственный DAG:\n",
    "[Airflow DAG: Coding your first DAG for Beginners](https://www.youtube.com/watch?v=IH1-0hwFZRQ);\n",
    "[Airflow Data Pipelines with Github Copilot?!](https://www.youtube.com/watch?v=1p1oE_MNA9A);\n",
    "[How to write your first DAG in Apache Airflow - Airflow tutorials](https://www.youtube.com/watch?v=2nhdhIYueIE)."
   ]
  },
  {
   "cell_type": "markdown",
   "metadata": {
    "pycharm": {
     "name": "#%% md\n"
    }
   },
   "source": [
    "А теперь к заданию, которое и закрепит пройденный материал:\n",
    "\n",
    "Сначала определим год, за какой будем смотреть данные.\n",
    "\n",
    "- Сделать это можно так:\n",
    "    в питоне выполнить 1994 + hash(f‘{login}') % 23,  где {login} - ваш логин (или же папка с дагами)\n",
    "\n",
    "Дальше нужно составить DAG из нескольких тасок, в результате которого нужно будет найти ответы на следующие вопросы:\n",
    "\n",
    "1. Какая игра была самой продаваемой в этом году во всем мире?\n",
    "2. Игры какого жанра были самыми продаваемыми в Европе? Перечислить все, если их несколько\n",
    "3. На какой платформе было больше всего игр, которые продались более чем миллионным тиражом в Северной Америке?\n",
    "Перечислить все, если их несколько\n",
    "4. У какого издателя самые высокие средние продажи в Японии?\n",
    "Перечислить все, если их несколько\n",
    "5. Сколько игр продались лучше в Европе, чем в Японии?\n",
    "\n",
    "\n",
    "Оформлять DAG можно как угодно, важно чтобы финальный таск писал в лог ответ на каждый вопрос. Ожидается, что в DAG будет 7 тасков. По одному на каждый вопрос, таск с загрузкой данных и финальный таск который собирает все ответы. Дополнительный бонус за настройку отправки сообщений в телеграмм по окончанию работы DAG\n"
   ]
  },
  {
   "cell_type": "code",
   "execution_count": 1,
   "metadata": {
    "pycharm": {
     "name": "#%%\n"
    }
   },
   "outputs": [],
   "source": [
    "#Для датасета\n",
    "import pandas as pd\n",
    "from datetime import timedelta\n",
    "from datetime import datetime\n",
    "\n",
    "#Для DAGS и отчетов в telegram\n",
    "import telegram\n",
    "from airflow.decorators import dag, task\n",
    "from airflow.operators.python import get_current_context\n",
    "from airflow.models import Variable"
   ]
  },
  {
   "cell_type": "markdown",
   "metadata": {
    "pycharm": {
     "name": "#%% md\n"
    }
   },
   "source": [
    "##### Описание данных\n",
    "Имеются следующие поля:\n",
    "\n",
    "1. Rank – место по объему продаж\n",
    "2. Name – название игры\n",
    "3. Platform – платформа, на которой выпущена игра\n",
    "4. Year – год релиза\n",
    "5. Genre – жанр\n",
    "6. Publisher – издатель\n",
    "7. NA_Sales – продажи в Северной Америке, в млн.\n",
    "8. EU_Sales – продажи в Европе, в млн.\n",
    "9. JP_Sales – продажи в Японии, в млн.\n",
    "10. Other_Sales – продажи в остальном мире, в млн.\n",
    "11. Global_Sales – продажи по всему миру, в млн."
   ]
  },
  {
   "cell_type": "markdown",
   "metadata": {
    "pycharm": {
     "name": "#%% md\n"
    }
   },
   "source": [
    "Как и в прошлый раз, я сначала выполню задачки, а после соберу свой Dag:\n",
    "1) Но прежде всего нужно выбрать год исходя из своего логина."
   ]
  },
  {
   "cell_type": "code",
   "execution_count": 2,
   "outputs": [
    {
     "data": {
      "text/plain": "2003"
     },
     "execution_count": 2,
     "metadata": {},
     "output_type": "execute_result"
    }
   ],
   "source": [
    "year = 1994 + hash(f'{\"v-saharov-20\"}') % 23\n",
    "year"
   ],
   "metadata": {
    "collapsed": false,
    "pycharm": {
     "name": "#%%\n"
    }
   }
  },
  {
   "cell_type": "code",
   "execution_count": 3,
   "outputs": [
    {
     "data": {
      "text/plain": "     Rank                        Name Platform    Year         Genre  \\\n104   105  Need for Speed Underground      PS2  2003.0        Racing   \n110   111   Mario Kart: Double Dash!!       GC  2003.0        Racing   \n174   175           Final Fantasy X-2      PS2  2003.0  Role-Playing   \n182   183         Super Mario Bros. 3      GBA  2003.0      Platform   \n190   191  Medal of Honor: Rising Sun      PS2  2003.0       Shooter   \n\n           Publisher  NA_Sales  EU_Sales  JP_Sales  Other_Sales  Global_Sales  \n104  Electronic Arts      3.27      2.83      0.08         1.02          7.20  \n110         Nintendo      4.12      1.77      0.87         0.19          6.95  \n174  Electronic Arts      1.92      1.08      2.11         0.17          5.29  \n182         Nintendo      2.93      1.25      0.83         0.20          5.20  \n190  Electronic Arts      1.98      2.23      0.13         0.80          5.13  ",
      "text/html": "<div>\n<style scoped>\n    .dataframe tbody tr th:only-of-type {\n        vertical-align: middle;\n    }\n\n    .dataframe tbody tr th {\n        vertical-align: top;\n    }\n\n    .dataframe thead th {\n        text-align: right;\n    }\n</style>\n<table border=\"1\" class=\"dataframe\">\n  <thead>\n    <tr style=\"text-align: right;\">\n      <th></th>\n      <th>Rank</th>\n      <th>Name</th>\n      <th>Platform</th>\n      <th>Year</th>\n      <th>Genre</th>\n      <th>Publisher</th>\n      <th>NA_Sales</th>\n      <th>EU_Sales</th>\n      <th>JP_Sales</th>\n      <th>Other_Sales</th>\n      <th>Global_Sales</th>\n    </tr>\n  </thead>\n  <tbody>\n    <tr>\n      <th>104</th>\n      <td>105</td>\n      <td>Need for Speed Underground</td>\n      <td>PS2</td>\n      <td>2003.0</td>\n      <td>Racing</td>\n      <td>Electronic Arts</td>\n      <td>3.27</td>\n      <td>2.83</td>\n      <td>0.08</td>\n      <td>1.02</td>\n      <td>7.20</td>\n    </tr>\n    <tr>\n      <th>110</th>\n      <td>111</td>\n      <td>Mario Kart: Double Dash!!</td>\n      <td>GC</td>\n      <td>2003.0</td>\n      <td>Racing</td>\n      <td>Nintendo</td>\n      <td>4.12</td>\n      <td>1.77</td>\n      <td>0.87</td>\n      <td>0.19</td>\n      <td>6.95</td>\n    </tr>\n    <tr>\n      <th>174</th>\n      <td>175</td>\n      <td>Final Fantasy X-2</td>\n      <td>PS2</td>\n      <td>2003.0</td>\n      <td>Role-Playing</td>\n      <td>Electronic Arts</td>\n      <td>1.92</td>\n      <td>1.08</td>\n      <td>2.11</td>\n      <td>0.17</td>\n      <td>5.29</td>\n    </tr>\n    <tr>\n      <th>182</th>\n      <td>183</td>\n      <td>Super Mario Bros. 3</td>\n      <td>GBA</td>\n      <td>2003.0</td>\n      <td>Platform</td>\n      <td>Nintendo</td>\n      <td>2.93</td>\n      <td>1.25</td>\n      <td>0.83</td>\n      <td>0.20</td>\n      <td>5.20</td>\n    </tr>\n    <tr>\n      <th>190</th>\n      <td>191</td>\n      <td>Medal of Honor: Rising Sun</td>\n      <td>PS2</td>\n      <td>2003.0</td>\n      <td>Shooter</td>\n      <td>Electronic Arts</td>\n      <td>1.98</td>\n      <td>2.23</td>\n      <td>0.13</td>\n      <td>0.80</td>\n      <td>5.13</td>\n    </tr>\n  </tbody>\n</table>\n</div>"
     },
     "execution_count": 3,
     "metadata": {},
     "output_type": "execute_result"
    }
   ],
   "source": [
    "df = pd.read_csv(\"vgsales.csv\").query(\"Year == @year\")\n",
    "df.head()"
   ],
   "metadata": {
    "collapsed": false,
    "pycharm": {
     "name": "#%%\n"
    }
   }
  },
  {
   "cell_type": "code",
   "execution_count": 4,
   "outputs": [
    {
     "data": {
      "text/plain": "546"
     },
     "execution_count": 4,
     "metadata": {},
     "output_type": "execute_result"
    }
   ],
   "source": [
    "df.Name.unique().shape[0]"
   ],
   "metadata": {
    "collapsed": false,
    "pycharm": {
     "name": "#%%\n"
    }
   }
  },
  {
   "cell_type": "markdown",
   "source": [
    "Есть несколько строк с повторением, то есть с повторными продажами:"
   ],
   "metadata": {
    "collapsed": false,
    "pycharm": {
     "name": "#%% md\n"
    }
   }
  },
  {
   "cell_type": "markdown",
   "source": [
    "А теперь преступим к вопросам:\n",
    "\n",
    "2. Какая игра была самой продаваемой в этом году во всем мире?\n"
   ],
   "metadata": {
    "collapsed": false,
    "pycharm": {
     "name": "#%% md\n"
    }
   }
  },
  {
   "cell_type": "code",
   "execution_count": 5,
   "outputs": [
    {
     "data": {
      "text/plain": "316    Need for Speed Underground\nName: Name, dtype: object"
     },
     "execution_count": 5,
     "metadata": {},
     "output_type": "execute_result"
    }
   ],
   "source": [
    "df.groupby(\"Name\",as_index=False).agg({\"Global_Sales\":\"sum\"})\\\n",
    "    .sort_values(\"Global_Sales\",ascending=False).head(1).Name"
   ],
   "metadata": {
    "collapsed": false,
    "pycharm": {
     "name": "#%%\n"
    }
   }
  },
  {
   "cell_type": "markdown",
   "source": [
    "3. Игры какого жанра были самыми продаваемыми в Европе? Перечислить все, если их несколько"
   ],
   "metadata": {
    "collapsed": false,
    "pycharm": {
     "name": "#%% md\n"
    }
   }
  },
  {
   "cell_type": "code",
   "execution_count": 6,
   "outputs": [
    {
     "data": {
      "text/plain": "0    Action\nName: Genre, dtype: object"
     },
     "execution_count": 6,
     "metadata": {},
     "output_type": "execute_result"
    }
   ],
   "source": [
    "df.groupby(\"Genre\",as_index=False).agg({\"EU_Sales\":\"sum\"})\\\n",
    "    .sort_values(\"EU_Sales\",ascending=False).head(1).Genre"
   ],
   "metadata": {
    "collapsed": false,
    "pycharm": {
     "name": "#%%\n"
    }
   }
  },
  {
   "cell_type": "markdown",
   "source": [
    "4. На какой платформе было больше всего игр, которые продались более чем миллионным тиражом в Северной Америке?\n",
    "Перечислить все, если их несколько"
   ],
   "metadata": {
    "collapsed": false,
    "pycharm": {
     "name": "#%% md\n"
    }
   }
  },
  {
   "cell_type": "code",
   "execution_count": 7,
   "outputs": [
    {
     "data": {
      "text/plain": "3    PS2\nName: Platform, dtype: object"
     },
     "execution_count": 7,
     "metadata": {},
     "output_type": "execute_result"
    }
   ],
   "source": [
    "df.query(\"NA_Sales > 1\").groupby(\"Platform\",as_index = False)\\\n",
    "    .agg({\"Name\":pd.Series.nunique})\\\n",
    "    .sort_values(\"Name\",ascending=False).head(1).Platform"
   ],
   "metadata": {
    "collapsed": false,
    "pycharm": {
     "name": "#%%\n"
    }
   }
  },
  {
   "cell_type": "markdown",
   "source": [
    "5. У какого издателя самые высокие средние продажи в Японии?\n",
    "Перечислить все, если их несколько"
   ],
   "metadata": {
    "collapsed": false,
    "pycharm": {
     "name": "#%% md\n"
    }
   }
  },
  {
   "cell_type": "code",
   "execution_count": 8,
   "outputs": [
    {
     "data": {
      "text/plain": "63    SquareSoft\nName: Publisher, dtype: object"
     },
     "execution_count": 8,
     "metadata": {},
     "output_type": "execute_result"
    }
   ],
   "source": [
    "df.groupby(\"Publisher\",as_index = False).agg({\"JP_Sales\":\"mean\"})\\\n",
    "    .sort_values(\"JP_Sales\",ascending=False).head(1).Publisher"
   ],
   "metadata": {
    "collapsed": false,
    "pycharm": {
     "name": "#%%\n"
    }
   }
  },
  {
   "cell_type": "markdown",
   "source": [
    "6. Сколько игр продались лучше в Европе, чем в Японии?"
   ],
   "metadata": {
    "collapsed": false,
    "pycharm": {
     "name": "#%% md\n"
    }
   }
  },
  {
   "cell_type": "code",
   "execution_count": 9,
   "outputs": [
    {
     "data": {
      "text/plain": "447"
     },
     "execution_count": 9,
     "metadata": {},
     "output_type": "execute_result"
    }
   ],
   "source": [
    "df.groupby(\"Name\",as_index = False)\\\n",
    "    .agg({\"EU_Sales\":\"sum\",\"JP_Sales\":\"sum\"})\\\n",
    "    .query(\"EU_Sales > JP_Sales\")\\\n",
    "    .shape[0]"
   ],
   "metadata": {
    "collapsed": false,
    "pycharm": {
     "name": "#%%\n"
    }
   }
  },
  {
   "cell_type": "markdown",
   "source": [
    "На все вопросы я ответил и теперь это можно встроить в Dag, при этом я хочу попробывать архитектуру airflow 2.0"
   ],
   "metadata": {
    "collapsed": false,
    "pycharm": {
     "name": "#%% md\n"
    }
   }
  },
  {
   "cell_type": "code",
   "execution_count": 10,
   "outputs": [],
   "source": [
    "default_args = {\n",
    "    'owner': 'v-saharov-20',\n",
    "    'depends_on_past': False,\n",
    "    'retries': 2,\n",
    "    'retry_delay': timedelta(minutes=5),\n",
    "    'start_date': datetime(2022, 6, 5),\n",
    "    'schedule_interval': '0 12 * * *'\n",
    "}"
   ],
   "metadata": {
    "collapsed": false,
    "pycharm": {
     "name": "#%%\n"
    }
   }
  },
  {
   "cell_type": "markdown",
   "source": [
    "Помимо всех запросов, которые нам нужно реализовать, нам также надо реализовать функцию с обработкой датасета и вывода всех ответов:"
   ],
   "metadata": {
    "collapsed": false,
    "pycharm": {
     "name": "#%% md\n"
    }
   }
  },
  {
   "cell_type": "code",
   "execution_count": null,
   "outputs": [],
   "source": [
    "CHAT_ID = -429299660\n",
    "BOT_TOKEN = Variable.get('telegram_secret')\n",
    "\n",
    "def send_message(context):\n",
    "    date = context['ds']\n",
    "    dag_id = context['dag'].dag_id\n",
    "    message = f\"Well Done! Dag {dag_id} completed on {date}. It's fine.\"\n",
    "    bot = telegram.Bot(token=BOT_TOKEN)\n",
    "    bot.send_message(chat_id=CHAT_ID, text=message)\n",
    "\n",
    "@dag(default_args=default_args, catchup=False)\n",
    "def lesson3_v_saharov_20():\n",
    "    \n",
    "    @task(retries=3)\n",
    "    def get_data():\n",
    "        year = 1994 + hash(f'{\"v-saharov-20\"}') % 23\n",
    "        games = pd.read_csv(\"vgsales.csv\").query(\"Year == @year\")\n",
    "        return games\n",
    "    \n",
    "    #Какая игра была самой продаваемой в этом году во всем мире?\n",
    "    @task(retries=4)\n",
    "    def top_game(games):\n",
    "        top_game_df = games.groupby(\"Name\",as_index=False).agg({\"Global_Sales\":\"sum\"})\\\n",
    "    .sort_values(\"Global_Sales\",ascending=False).head(1).Name\n",
    "        return top_game_df\n",
    "    \n",
    "    #Игры какого жанра были самыми продаваемыми в Европе? Перечислить все, если их несколько\n",
    "    @task(retries=4)\n",
    "    def top_genres(games):\n",
    "        top_genres_df = games.groupby(\"Genre\",as_index=False).agg({\"EU_Sales\":\"sum\"})\\\n",
    "    .sort_values(\"EU_Sales\",ascending=False).head(1).Genre\n",
    "        return top_genres_df\n",
    "    \n",
    "    #На какой платформе было больше всего игр, которые продались более чем миллионным тиражом в Северной Америке? Перечислить все, если их несколько\n",
    "    @task(retries=4)\n",
    "    def top_platform_na(games):\n",
    "        top_platform_na_df = games.query(\"NA_Sales > 1\").groupby(\"Platform\",as_index = False)\\\n",
    "            .agg({\"Name\":pd.Series.nunique})\\\n",
    "            .sort_values(\"Name\",ascending=False).head(1).Platform\n",
    "        return top_platform_na_df\n",
    "    \n",
    "    #У какого издателя самые высокие средние продажи в Японии? Перечислить все, если их несколько\n",
    "    @task(retries=4)\n",
    "    def top_publisher_japan(games):\n",
    "        top_publisher_japan_df = games.groupby(\"Publisher\",as_index = False).agg({\"JP_Sales\":\"mean\"})\\\n",
    "            .sort_values(\"JP_Sales\",ascending=False).head(1).Publisher\n",
    "        return top_publisher_japan_df\n",
    "    \n",
    "    #Сколько игр продались лучше в Европе, чем в Японии?\n",
    "    @task(retries=4)\n",
    "    def europe_bigger_japan(games):\n",
    "        europe_bigger_japan_df = games.groupby(\"Name\",as_index = False)\\\n",
    "            .agg({\"EU_Sales\":\"sum\",\"JP_Sales\":\"sum\"})\\\n",
    "            .query(\"EU_Sales > JP_Sales\")\\\n",
    "            .shape[0]\n",
    "        return europe_bigger_japan_df\n",
    "    \n",
    "    @task(on_success_callback=send_message)\n",
    "    def print_data(top_game_df, top_genres_df, top_platform_na_df, top_publisher_japan_df, europe_bigger_japan_df):\n",
    "        context = get_current_context()\n",
    "        date = context['ds']\n",
    "        year = 1994 + hash('v-saharov-20') % 23\n",
    "\n",
    "        print(f\"The most popular game in {year} is {top_game_df}\")\n",
    "        print(f\"The most popular genres in Europe in {year} is {top_genres_df}\")\n",
    "        print(f\"The most popular platform with the biggest amount of games which have been sold more than 1 millions copies in {year} in NA is {top_platform_na_df}\")\n",
    "        print(f\"The best publisher of mean sales in Japan in {year} is {top_publisher_japan_df}\")\n",
    "        print(f\"{europe_bigger_japan_df} were sold more in Europe than in Japan in {year}\")\n",
    "        \n",
    "\n",
    "    data = get_data()\n",
    "    world_top_game = top_game(data)\n",
    "    top_genres_eu = top_genres(data)\n",
    "    top_platform_na_1m = top_platform_na(data)\n",
    "    top_publisher_japan_sales = top_publisher_japan(data)\n",
    "    number_europe_bigger_japan = europe_bigger_japan(data)\n",
    "    print_data(world_top_game, top_genres_eu, top_platform_na_1m, top_publisher_japan_sales, number_europe_bigger_japan)\n",
    "    \n",
    "lesson3_v_saharov_20 = lesson3_v_saharov_20()\n"
   ],
   "metadata": {
    "collapsed": false,
    "pycharm": {
     "name": "#%%\n"
    }
   }
  },
  {
   "cell_type": "markdown",
   "source": [
    "### Выводы:\n",
    "____\n",
    "В ходе я ответил на несколько рутинных вопросов, которые после собрал в DAGS, при этом я использовал новый способ назначение тасков, а именно с помощью декодаров."
   ],
   "metadata": {
    "collapsed": false,
    "pycharm": {
     "name": "#%% md\n"
    }
   }
  },
  {
   "cell_type": "markdown",
   "source": [
    "### Полезные ссылки для изучения:\n",
    "\n",
    "Базовые вещи:\n",
    "____\n",
    "1. [Основные термины и концепты airflow](https://airflow.apache.org/docs/apache-airflow/stable/concepts/index.html);\n",
    "2. [Best practices от самого airflow](https://airflow.apache.org/docs/apache-airflow/stable/best-practices.html);\n",
    "3. [Еще практика](https://medium.com/datareply/airflow-lesser-known-tips-tricks-and-best-practises-cf4d4a90f8f ).\n",
    "\n",
    "Advanced:\n",
    "____\n",
    "1. [Разные гайды в доке](https://airflow.apache.org/docs/apache-airflow/stable/howto/index.html);\n",
    "2. [Немного про нотификации](https://www.astronomer.io/guides/error-notifications-in-airflow);\n",
    "3. [Целый учебник](https://livebook.manning.com/book/data-pipelines-with-apache-airflow/welcome/v-4/)."
   ],
   "metadata": {
    "collapsed": false,
    "pycharm": {
     "name": "#%% md\n"
    }
   }
  }
 ],
 "metadata": {
  "kernelspec": {
   "display_name": "Python 3 (ipykernel)",
   "language": "python",
   "name": "python3"
  },
  "language_info": {
   "codemirror_mode": {
    "name": "ipython",
    "version": 3
   },
   "file_extension": ".py",
   "mimetype": "text/x-python",
   "name": "python",
   "nbconvert_exporter": "python",
   "pygments_lexer": "ipython3",
   "version": "3.9.7"
  }
 },
 "nbformat": 4,
 "nbformat_minor": 1
}